{
  "nbformat": 4,
  "nbformat_minor": 0,
  "metadata": {
    "colab": {
      "provenance": [],
      "authorship_tag": "ABX9TyOxqEECmoKTaGkp8Z7/nyVQ",
      "include_colab_link": true
    },
    "kernelspec": {
      "name": "python3",
      "display_name": "Python 3"
    },
    "language_info": {
      "name": "python"
    }
  },
  "cells": [
    {
      "cell_type": "markdown",
      "metadata": {
        "id": "view-in-github",
        "colab_type": "text"
      },
      "source": [
        "<a href=\"https://colab.research.google.com/github/SarahFeanor/ADA_Tech_Projects/blob/main/Projeto_Grupo5_Turma_1102.ipynb\" target=\"_parent\"><img src=\"https://colab.research.google.com/assets/colab-badge.svg\" alt=\"Open In Colab\"/></a>"
      ]
    },
    {
      "cell_type": "markdown",
      "source": [
        "[![Python 3.7+](https://img.shields.io/badge/python-3.7+-blue.svg)](https://www.python.org/downloads/release/python-360/) [![License: GPL v3](https://img.shields.io/badge/License-GPLv3-blue.svg)](https://www.gnu.org/licenses/gpl-3.0)\n",
        "\n"
      ],
      "metadata": {
        "id": "xlPYuy9wNeZx"
      }
    },
    {
      "cell_type": "markdown",
      "source": [
        "<sub> 📂 Projeto - Grupo 5 | Turma: 1102 | Programa Vem ser Tech - Dados | Módulo 1 - Lógica de Programação   </sub>\n",
        "\n",
        "\n",
        "----"
      ],
      "metadata": {
        "id": "yVZvcnUQNfTL"
      }
    },
    {
      "cell_type": "markdown",
      "source": [
        "# 💻 Projeto Grupo 5 - Codificação e decodificação de mensagens com Python"
      ],
      "metadata": {
        "id": "KtejQWRYNp_q"
      }
    },
    {
      "cell_type": "markdown",
      "source": [
        "## Contextualização\n",
        "\n",
        "A **PyCoders Ltda.**, cada vez mais especializada no mundo da Inteligência Artificial e Ciência de Dados, foi procurada por uma **fintech** para desenvolver um projeto codificação de dados.\n",
        "\n",
        "A **fintech** percebeu que muitas das informações usadas na área de inteligência de negócios, estão sendo roubadas por uma empresa concorrente!\n",
        "\n",
        "Para lidar com esse problema, um dos funcionários sugeriu que os dados sejam codificados usando uma **chave secreta**, e unicamente quem souber a chave secreta poderá conseguir decodificar a\n",
        "mensagem e visualizar os dados originais.\n",
        "\n",
        "Como existe muito risco de a chave vazar e de qualquer forma os dados serem roubados, a chave tem que ser alterada com frequência, fazendo desta forma que a codificação seja dependente da\n",
        "senha!\n",
        "\n",
        "Por exemplo:\n",
        "\n",
        "Se eu tiver a mensagem: 'Hello world!'\n",
        "- A mensagem codificada com uma chave aleatória X, poderia ser: ```'bdgdjh3bvd8397'```\n",
        "\n",
        "- E, a mesma mensagem codificada com uma chave aleatória Y, poderia ser: ```'oouyrjrhyw26'```"
      ],
      "metadata": {
        "id": "MqUtb4DRNqHf"
      }
    },
    {
      "cell_type": "markdown",
      "source": [
        "## 🎯 Objetivo do Projeto\n",
        "\n",
        "O objetivo deste projeto é codificar e decodificar mensagens usando uma chave comum.\n",
        "\n",
        "1. Neste projeto, os usuários devem inserir a mensagem para codificar ou decodificar.\n",
        "2. Os usuários devem selecionar o modo para escolher o processo de codificação e decodificação.\n",
        "3. A mesma chave deve ser usada para processar a codificação e decodificação da mesma mensagem.\n",
        "\n",
        "ATENÇÃO: Considerar que duas chaves diferentes devem gerar, _em geral_, codificações e/ou decodificações diferentes!"
      ],
      "metadata": {
        "id": "Zja4WgYFNq6w"
      }
    },
    {
      "cell_type": "markdown",
      "source": [
        "## Exemplo:\n",
        "\n",
        "1. O sistema deve perguntar ao usuário se deseja codificar ou decodificar a mensagem, ou se deseja sair do processo.\n",
        "\n",
        "2. Se o usuário selecionou que deseja codificar ou decodificar, o sistema agora deve solicitar ao usuário que informe:\n",
        "\n",
        "- Caso for selecionado codificar: o sistema deve pedir para o usuário colocar a frase a ser codificada.\n",
        "- Caso for selecionado decodificar: o sistema deve pedir para o usuário colocar a frase a ser decodificada.\n",
        "\n",
        "3. Uma vez informada a frase (a codificar ou codificada), o sistema deve pedir para o usuário informar a chave secreta.\n",
        "\n",
        "4. Uma vez que o sistema receba a chave, deve mostrar a mensagem codificada ou decodificada.\n",
        "\n",
        "5. Finalmente o sistema deve voltar a (1).\n"
      ],
      "metadata": {
        "id": "vxjFZiRHNq-4"
      }
    },
    {
      "cell_type": "code",
      "execution_count": null,
      "metadata": {
        "id": "yPbxMlHQNahS"
      },
      "outputs": [],
      "source": [
        "# Exemplo codificação:\n",
        "mensagem = 'Jorge'\n",
        "chave = '123'\n",
        "\n",
        "# Criterio de codificacao naive: colocar a chave entre as letras originais\n",
        "mensagem_codificada = 'J123o123r123g123e'"
      ]
    },
    {
      "cell_type": "code",
      "source": [
        "# Exemplo codificação:\n",
        "mensagem = 'Jorge'\n",
        "chave = '123'\n",
        "\n",
        "# Criterio de codificacao naive: colocar a chave entre as letras originais\n",
        "mensagem_codificada = 'J123o123r123g123e'"
      ],
      "metadata": {
        "id": "wdK_MkRNN8hz"
      },
      "execution_count": null,
      "outputs": []
    },
    {
      "cell_type": "markdown",
      "source": [
        "### Considerações importantes:\n",
        "\n",
        "1. É obrigatorio garantir que vamos conseguir decodificar uma mensagem codificada.\n",
        "2. A chave pode ser quaquer uma, ou seja: combinação de números, letras e carateres especiais.\n",
        "3. Faça vários testes, e identifique situações nas quais seu algoritmo vai ter mais dificuldade, e a partir disso pense em melhorias a serem feitas no seu algoritmo.\n",
        "4. Aplique todos os conteúdos aprendidos durante esse módulo para a entrega deste projeto.\n",
        "5. Está proibido o uso de bibliotecas do python que já realizem codificação e decodificação de mensagens.\n",
        "\n",
        "### Organização e entregáveis\n",
        "\n",
        "1. O projeto pode ser feito em grupo de até 05 participantes.\n",
        "2. O projeto completo (Notebook, código-fonte, link para fontes, bases e demais artefatos) deve ser enviado por e-mail (do professor) com nome dos participantes. Colocar no assunto do e-mail:\n",
        "``Projeto Vem Ser Tech 2023 - Data - Turma XXXX``"
      ],
      "metadata": {
        "id": "d722H0_6N_L6"
      }
    },
    {
      "cell_type": "markdown",
      "source": [
        "---\n"
      ],
      "metadata": {
        "id": "6h3ybPKPOAKJ"
      }
    },
    {
      "cell_type": "markdown",
      "source": [
        "# PROJETO - GRUPO 5"
      ],
      "metadata": {
        "id": "nHU-ubqgOCvo"
      }
    },
    {
      "cell_type": "markdown",
      "source": [
        "# 💻 1ª Parte - Explicação Inicial\n",
        "\n",
        "A ideia foi tranformar cada caractere em um número, como por exemplo usando o [Unicode](https://pt.wikipedia.org/wiki/Unicode), aproveitando funções prontas em Python, como `chr()` e `ord()`. E usando a **palavra-chave** como uma máscara e somá-la à mensagem.\n",
        "\n",
        "### >> Por exemplo:\n",
        "\n",
        "- Palavra chave: `teste`\n",
        "\n",
        "- Mensagem: `“Hello World!”`\n",
        "\n",
        "\n",
        "```python\n",
        "Em números do Unicode\n",
        "\n",
        "- Palavra chave: 116\n",
        "\n",
        "- Palavra chave\n",
        "\n",
        "t      e      s     t     e  \n",
        "\n",
        "116   101    115   116    101\n",
        "\n",
        "\n",
        "- Mensagem\n",
        "\n",
        "H    e     l   l    o   W    o   r    l    d    !\n",
        "72  101  108  108  111  32  87  111  114  100  33\n",
        "\n",
        "```\n",
        "\n",
        "Usando a palavra chave como máscara (somando valores da chave e mensagem):"
      ],
      "metadata": {
        "id": "g_x_UaVYOHaL"
      }
    },
    {
      "cell_type": "markdown",
      "source": [
        "![fesdfds.jpg](data:image/jpeg;base64,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)\n"
      ],
      "metadata": {
        "id": "fIOf1lo6tOwY"
      }
    },
    {
      "cell_type": "markdown",
      "source": [
        "Para realizar a operação de decodificação (decode), basta subtrair a chave da mensagem.\n",
        "\n",
        "É importante observar que ao somar, caso o resultado ultrapasse o intervalo de códigos, como no caso do Unicode, é possível reiniciar a contagem a partir do valor zero.\n",
        "\n",
        "Da mesma forma, na subtração, se o resultado for negativo, é permitido iniciar a contagem a partir do final.\n",
        "\n",
        "**Exemplo**:\n",
        "\n",
        "```python\n",
        "Tam Unicode do chr() = 1.114.111\n",
        "\n",
        "Soma =  2.114.113 -> 2\n",
        "Soma =  2.114.111 -> 1.000.000\n",
        "Subtração = -1 -> 1.114.110\n",
        "Subtração = -111 -> 1.114.000\n",
        "\n",
        "```"
      ],
      "metadata": {
        "id": "XlL7h8g5tR9U"
      }
    },
    {
      "cell_type": "markdown",
      "source": [
        "- Tipos de codificação (Unicode, ASCII, LATIN)\n",
        "- Algoritmo (transformação linear e função bijetora)"
      ],
      "metadata": {
        "id": "HaRpRk82tfe5"
      }
    },
    {
      "cell_type": "markdown",
      "source": [
        "O grupo decidiu criar seu próprio formato de representação de caracteres associados aos números decimais 0 à 129, a tabela foi carinhosamente nomeada de SS3J (Samara, Sarah, Janderson, Jared e José);"
      ],
      "metadata": {
        "id": "bg8GKMGxtiSp"
      }
    },
    {
      "cell_type": "markdown",
      "source": [
        "## TABELA SS3J\n",
        "\n",
        "```\n",
        "| DEC  | CHR |      BIN     | HEX |\n",
        "| ---- | --- | -----------  | --- |\n",
        "| 0    | !   | 0b0          | 0x0 |\n",
        "| 1    | \"   | 0b1          | 0x1 |\n",
        "| 2    | #   | 0b10         | 0x2 |\n",
        "| 3    | $   | 0b11         | 0x3 |\n",
        "| 4    | %   | 0b100        | 0x4 |\n",
        "| 5    | &   | 0b101        | 0x5 |\n",
        "| 6    | '   | 0b110        | 0x6 |\n",
        "| 7    | (   | 0b111        | 0x7 |\n",
        "| 8    | )   | 0b1000       | 0x8 |\n",
        "| 9    | *   | 0b1001       | 0x9 |\n",
        "| 10   | +   | 0b1010       | 0xa |\n",
        "| 11   | ,   | 0b1011       | 0xb |\n",
        "| 12   | -   | 0b1100       | 0xc |\n",
        "| 13   | .   | 0b1101       | 0xd |\n",
        "| 14   | /   | 0b1110       | 0xe |\n",
        "| 15   | 0   | 0b1111       | 0xf |\n",
        "| 16   | 1   | 0b10000      | 0x10 |\n",
        "| 17   | 2   | 0b10001      | 0x11 |\n",
        "| 18   | 3   | 0b10010      | 0x12 |\n",
        "| 19   | 4   | 0b10011      | 0x13 |\n",
        "| 20   | 5   | 0b10100      | 0x14 |\n",
        "| 21   | 6   | 0b10101      | 0x15 |\n",
        "| 22   | 7   | 0b10110      | 0x16 |\n",
        "| 23   | 8   | 0b10111      | 0x17 |\n",
        "| 24   | 9   | 0b11000      | 0x18 |\n",
        "| 25   | :   | 0b11001      | 0x19 |\n",
        "| 26   | ;   | 0b11010      | 0x1a |\n",
        "| 27   | <   | 0b11011      | 0x1b |\n",
        "| 28   | =   | 0b11100      | 0x1c |\n",
        "| 29   | >   | 0b11101      | 0x1d |\n",
        "| 30   | ?   | 0b11110      | 0x1e |\n",
        "| 31   | @   | 0b11111      | 0x1f |\n",
        "| 32   | A   | 0b100000     | 0x20 |\n",
        "| 33   | B   | 0b100001     | 0x21 |\n",
        "| 34   | C   | 0b100010     | 0x22 |\n",
        "| 35   | D   | 0b100011     | 0x23 |\n",
        "| 36   | E   | 0b100100     | 0x24 |\n",
        "| 37   | F   | 0b100101     | 0x25 |\n",
        "| 38   | G   | 0b100110     | 0x26 |\n",
        "| 39   | H   | 0b100111     | 0x27 |\n",
        "| 40   | I   | 0b101000     | 0x28 |\n",
        "| 41   | J   | 0b101001     | 0x29 |\n",
        "| 42   | K   | 0b101010     | 0x2a |\n",
        "| 43   | L   | 0b101011     | 0x2b |\n",
        "| 44   | M   | 0b101100     | 0x2c |\n",
        "| 45   | N   | 0b101101     | 0x2d |\n",
        "| 46   | O   | 0b101110     | 0x2e |\n",
        "| 47   | P   | 0b101111     | 0x2f |\n",
        "| 48   | Q   | 0b110000     | 0x30 |\n",
        "| 49   | R   | 0b110001     | 0x31 |\n",
        "| 50   | S   | 0b110010     | 0x32 |\n",
        "| 51   | T   | 0b110011     | 0x33 |\n",
        "| 52   | U   | 0b110100     | 0x34 |\n",
        "| 53   | V   | 0b110101     | 0x35 |\n",
        "| 54   | W   | 0b110110     | 0x36 |\n",
        "| 55   | X   | 0b110111     | 0x37 |\n",
        "| 56   | Y   | 0b111000     | 0x38 |\n",
        "| 57   | Z   | 0b111001     | 0x39 |\n",
        "| 58   | [   | 0b111010     | 0x3a |\n",
        "| 59   | \\   | 0b111011     | 0x3b |\n",
        "| 60   | ]   | 0b111100     | 0x3c |\n",
        "| 61   | ^   | 0b111101     | 0x3d |\n",
        "| 62   | _   | 0b111110     | 0x3e |\n",
        "| 63   | `   | 0b111111     | 0x3f |\n",
        "| 64   | a   | 0b1000000    | 0x40 |\n",
        "| 65   | b   | 0b1000001    | 0x41 |\n",
        "| 66   | c   | 0b1000010    | 0x42 |\n",
        "| 67   | d   | 0b1000011    | 0x43 |\n",
        "| 68   | e   | 0b1000100    | 0x44 |\n",
        "| 69   | f   | 0b1000101    | 0x45 |\n",
        "| 70   | g   | 0b1000110    | 0x46 |\n",
        "| 71   | h   | 0b1000111    | 0x47 |\n",
        "| 72   | i   | 0b1001000    | 0x48 |\n",
        "| 73   | j   | 0b1001001    | 0x49 |\n",
        "| 74   | k   | 0b1001010    | 0x4a |\n",
        "| 75   | l   | 0b1001011    | 0x4b |\n",
        "| 76   | m   | 0b1001100    | 0x4c |\n",
        "| 77   | n   | 0b1001101    | 0x4d |\n",
        "| 78   | o   | 0b1001110    | 0x4e |\n",
        "| 79   | p   | 0b1001111    | 0x4f |\n",
        "| 80   | q   | 0b1010000    | 0x50 |\n",
        "| 81   | r   | 0b1010001    | 0x51 |\n",
        "| 82   | s   | 0b1010010    | 0x52 |\n",
        "| 83   | t   | 0b1010011    | 0x53 |\n",
        "| 84   | u   | 0b1010100    | 0x54 |\n",
        "| 85   | v   | 0b1010101    | 0x55 |\n",
        "| 86   | w   | 0b1010110    | 0x56 |\n",
        "| 87   | x   | 0b1010111    | 0x57 |\n",
        "| 88   | y   | 0b1011000    | 0x58 |\n",
        "| 89   | z   | 0b1011001    | 0x59 |\n",
        "| 90   | {   | 0b1011010    | 0x5a |\n",
        "| 91   | |   | 0b1011011    | 0x5b |\n",
        "| 92   | }   | 0b1011100    | 0x5c |\n",
        "| 93   | ~   | 0b1011101    | 0x5d |\n",
        "| 94   | Á   | 0b1011110    | 0x5e |\n",
        "| 95   | À   | 0b1011111    | 0x5f |\n",
        "| 96   |     | 0b1100000    | 0x60 |\n",
        "| 97   | Ã   | 0b1100001    | 0x61 |\n",
        "| 98   | Ç   | 0b1100010    | 0x62 |\n",
        "| 99   | É   | 0b1100011    | 0x63 |\n",
        "| 100  | È   | 0b1100100    | 0x64 |\n",
        "| 101  | Ê   | 0b1100101    | 0x65 |\n",
        "| 102  | Í   | 0b1100110    | 0x66 |\n",
        "| 103  | Ì   | 0b1100111    | 0x67 |\n",
        "| 104  | Î   | 0b1101000    | 0x68 |\n",
        "| 105  | Ó   | 0b1101001    | 0x69 |\n",
        "| 106  | Ò   | 0b1101010    | 0x6a |\n",
        "| 107  | Ô   | 0b1101011    | 0x6b |\n",
        "| 108  | Õ   | 0b1101100    | 0x6c |\n",
        "| 109  | Ú   | 0b1101101    | 0x6d |\n",
        "| 110  | Ù   | 0b1101110    | 0x6e |\n",
        "| 111  | Û   | 0b1101111    | 0x6f |\n",
        "| 112  | á   | 0b1110000    | 0x70 |\n",
        "| 113  | à   | 0b1110001    | 0x71 |\n",
        "| 114  | â   | 0b1110010    | 0x72 |\n",
        "| 115  | ã   | 0b1110011    | 0x73 |\n",
        "| 116  | ç   | 0b1110100    | 0x74 |\n",
        "| 117  | é   | 0b1110101    | 0x75 |\n",
        "| 118  | è   | 0b1110110    | 0x76 |\n",
        "| 119  | ê   | 0b1110111    | 0x77 |\n",
        "| 120  | í   | 0b1111000    | 0x78 |\n",
        "| 121  | ì   | 0b1111001    | 0x79 |\n",
        "| 122  | î   | 0b1111010    | 0x7a |\n",
        "| 123  | ó   | 0b1111011    | 0x7b |\n",
        "| 124  | ò   | 0b1111100    | 0x7c |\n",
        "| 125  | ô   | 0b1111101    | 0x7d |\n",
        "| 126  | õ   | 0b1111110    | 0x7e |\n",
        "| 127  | ú   | 0b1111111    | 0x7f |\n",
        "| 128  | ù   | 0b10000000   | 0x80 |\n",
        "| 129  | û   | 0b10000001   | 0x81 |\n",
        "| 130  |     | 0b10000010   | 0x82 |\n",
        "\n",
        "\n",
        "\n",
        "```\n"
      ],
      "metadata": {
        "id": "24YyxW32tm1g"
      }
    },
    {
      "cell_type": "code",
      "source": [
        "# Lista com todos os caracteres na representação SS3J\n",
        "\n",
        "SS3J = [\n",
        "    '!','\"','#','$','%','&',\"'\",'(',')','*','+',',','-','.','/',\n",
        "    '0','1','2','3','4','5','6','7','8','9',\n",
        "    ':',';','<','=','>','?','@',\n",
        "    'A','B','C','D','E','F','G','H','I','J','K','L','M','N','O','P','Q','R','S','T','U','V','W','X','Y','Z',\n",
        "    '[','\\\\',']','^','_','`',\n",
        "    'a','b','c','d','e','f','g','h','i','j','k','l','m','n','o','p','q','r','s','t','u','v','w','x','y','z',\n",
        "    '{','|','}','~',\n",
        "    'Á','À','Â','Ã','Ç','É','È','Ê','Í','Ì','Î','Ó','Ò','Ô','Õ','Ú','Ù','Û','á','à','â','ã','ç','é','è','ê','í','ì','î','ó','ò','ô','õ','ú','ù','û', ' '\n",
        "]\n",
        "\n",
        "# Função 1\n",
        "def ord_ss3j(char, SS3J=SS3J):\n",
        "    for i in range(len(SS3J)):\n",
        "        if char == SS3J[i]:\n",
        "            return i\n",
        "    return -1\n",
        "\n",
        "# Função 2\n",
        "def text_to_ss3j(text):\n",
        "    text_to_ss3j = [ord_ss3j(char) for char in text]\n",
        "    return text_to_ss3j\n",
        "\n",
        "# Função 3\n",
        "def chr_ss3j(index, SS3J=SS3J):\n",
        "    if index >= len(SS3J):\n",
        "        return -1\n",
        "    return SS3J[index]\n",
        "\n",
        "# Função 4\n",
        "def ss3j_to_text(lista):\n",
        "    text = ''.join([chr_ss3j(index) for index in lista])\n",
        "    return text\n",
        "\n",
        "# Função 5\n",
        "def encode(message, key, SS3J=SS3J):\n",
        "    message = text_to_ss3j(message)\n",
        "    key = text_to_ss3j(key)\n",
        "\n",
        "    j = 0\n",
        "    for i in range(len(message)):\n",
        "      message[i] = (message[i] + key[j]) % len(SS3J)\n",
        "      j = (j + 1) % len(key)\n",
        "\n",
        "    message = ss3j_to_text(message)\n",
        "\n",
        "    return message\n",
        "\n",
        "# Função 6\n",
        "def decode(message, key, SS3J=SS3J):\n",
        "    message = text_to_ss3j(message)\n",
        "    key = text_to_ss3j(key)\n",
        "\n",
        "    j = 0\n",
        "    for i in range(len(message)):\n",
        "        message[i] = (message[i] - key[j]) % len(SS3J)\n",
        "        j = (j + 1) % len(key)\n",
        "\n",
        "    message = ss3j_to_text(message)\n",
        "\n",
        "    return message\n",
        "\n",
        "# Loop Principal:\n",
        "\n",
        "print('Codificador e Decodificador de Mensagens\\n')\n",
        "\n",
        "while True:\n",
        "    user_input = input(\"Por favor, escolha uma das opções - 'C' para codificar, 'D' para decodificar ou 'S' para sair: \").upper()\n",
        "    if user_input == 'S':\n",
        "        break\n",
        "\n",
        "# Codificador\n",
        "\n",
        "    elif user_input == 'C':\n",
        "        print('\\nVocê escolheu: Codificador!')\n",
        "        message = input('Digite a mensagem a ser codificada: ')\n",
        "        key = input('Digite a palavra-chave de codificação: ')\n",
        "        texto_cifrado = encode(message, key)\n",
        "        print(f'\\nMensagem codificada: {texto_cifrado}\\n')\n",
        "\n",
        "# Descodificador\n",
        "\n",
        "    elif user_input == 'D':\n",
        "        print('\\nVocê escolheu: Decodificador!')\n",
        "        message = input('Digite a mensagem a ser decodificada: ')\n",
        "        key = input('Digite a palavra-chave de decodificação: ')\n",
        "        texto_decifrado = decode(message, key)\n",
        "        print(f'\\nMensagem decodificada: {texto_decifrado}\\n')\n",
        "    else:\n",
        "        print('\\nVocê não digitou uma opção válida.\\n')"
      ],
      "metadata": {
        "id": "RIdwy-bitp7N"
      },
      "execution_count": null,
      "outputs": []
    },
    {
      "cell_type": "markdown",
      "source": [
        "# 💻 3ª Parte - Explicação do Código\n",
        "\n",
        "- **Definição da Lista de Caracteres SS3J:**\n",
        "\n",
        " - Nós começamos o código com a definição de uma lista chamada SS3J. Esta lista contém todos os caracteres que compõem a representação escolhida, um conjunto de caracteres especiais, letras maiúsculas, letras minúsculas e alguns caracteres acentuados.\n",
        "\n",
        "- 🔶 **FUNÇÃO 1** `ord_ss3j(char)`:\n",
        " - Essa função recebe um caractere como entrada e retorna a ordem decimal desse caractere na lista **SS3J**.\n",
        " - Ela percorre a lista **SS3J** e compara o caractere fornecido com cada elemento da lista. Se encontrar correspondência, retorna a posição desse caractere na lista (ordem decimal).\n",
        " - Caso contrário, retorna -1, indicando que o caractere não está na lista.\n",
        "\n",
        "\n",
        "- 🔶 **FUNÇÃO 2** `text_to_ss3j(text)`:\n",
        "\n",
        " - Essa função recebe uma string como entrada e retorna uma lista de ordens decimais de caracteres correspondentes a cada caractere da string.\n",
        " - Ela cria uma lista vazia chamada text_to_ss3j para armazenar as ordens decimais.\n",
        " - Itera através de cada caractere na string de entrada, chamando a função ord_ss3j para obter a ordem decimal e adiciona essa ordem à lista text_to_ss3j.\n",
        " - Retorna a lista resultante.\n",
        "\n",
        "- 🔶 **FUNÇÃO 3**  `chr_ss3j(index)`:\n",
        "\n",
        " - Essa função recebe uma ordem decimal como entrada e retorna o caractere correspondente na representação SS3J.\n",
        " - Verifica se o índice fornecido está dentro dos limites da lista SS3J. Se estiver, retorna o caractere correspondente.\n",
        " - Caso contrário, retorna -1.\n",
        "\n",
        "- 🔶 **FUNÇÃO 4** `ss3j_to_text(lista)`:\n",
        "\n",
        " - Esta função recebe uma lista de ordens decimais como entrada e retorna a string correspondente na representação SS3J.\n",
        " - Inicializa uma string vazia chamada text.\n",
        " - Itera através de cada ordem decimal na lista de entrada, chamando a função chr_ss3j para obter o caractere correspondente e o adiciona à string text.\n",
        " - Retorna a string resultante.\n",
        "\n",
        "- 🔶 **FUNÇÃO 5** `encode(message, key)`:\n",
        "\n",
        " - Esta função é responsável por **CODIFICAR** uma mensagem usando a representação SS3J e uma chave.\n",
        " - Converte a mensagem e a chave em listas de ordens decimais chamando as funções text_to_ss3j.\n",
        " - Inicia uma variável j para controlar a posição na chave.\n",
        " - Itera através de cada ordem decimal na lista da mensagem e adiciona o valor da chave correspondente (módulo o comprimento da chave) a essa ordem.\n",
        " - Utiliza a operação de módulo para garantir que o resultado permaneça dentro dos limites da representação SS3J.\n",
        " - Converte a lista de ordens decimais resultante de volta em uma string chamando a função ss3j_to_text.\n",
        " - Retorna a mensagem codificada.\n",
        "\n",
        "- 🔶 **FUNÇÃO 6** `decode(message, key)`:\n",
        "\n",
        " - Esta função é responsável por **DESCODIFICAR** uma mensagem usando a representação SS3J e uma chave.\n",
        " - Realiza um processo semelhante à função encode, mas subtrai o valor da chave em vez de somá-lo para reverter a codificação.\n",
        " - Converte a lista de ordens decimais resultante de volta em uma string chamando a função ss3j_to_text.\n",
        " - Retorna a mensagem decodificada.\n",
        "\n",
        "-  **LOOP PRINCIPAL**\n",
        "\n",
        " - O código entra em um loop principal usando while True.\n",
        " - Solicita ao usuário que escolha entre \"C\" para codificador, \"D\" para decodificador ou \"SAIR\" para sair.\n",
        " - Dependendo da escolha do usuário, ele solicita a mensagem e a chave apropriadas e chama as funções encode ou decode.\n",
        " - O resultado é exibido na tela.\n",
        " - O loop continua até o usuário escolher \"SAIR\"."
      ],
      "metadata": {
        "id": "W5gj4XUKtojp"
      }
    },
    {
      "cell_type": "markdown",
      "source": [
        "## Considerações Finais\n",
        "\n",
        "A realização deste projeto foi uma experiência de aprendizado significativa que nos permitiu aplicar os conhecimentos adquiridos em sala de aula em um ambiente prático. O projeto nos permitiu explorar novos horizontes e expandir nossa compreensão sobre a lógica de programação em Python.\n",
        "\n",
        "Gostaríamos de expressar nossa  gratidão ao professor Jorge, por nos proporcionar a oportunidade de realizar este projeto e pela orientação valiosa que nos foi oferecida ao longo das aulas.\n",
        "Foi uma jornada colaborativa que nos ajudou a fortalecer nossos laços e a compreender a importância do trabalho em equipe.\n",
        "\n",
        "Atenciosamente,\n",
        "\n",
        "Grupo 5 - Turma 1102 | Dados."
      ],
      "metadata": {
        "id": "a9-vWN-nt0NL"
      }
    },
    {
      "cell_type": "markdown",
      "source": [
        "---\n",
        "\n",
        "## Referências\n",
        "\n",
        "\n",
        "- [1]    INSTITUTO DE MATEMÁTICA E ESTATÍSTICA DA USP. **ISO Latin 1**. Disponível em: https://ime.usp.br/~pf/algoritmos/apend/iso-latin-1.html. Acesso em: 22 de outubro de 2023.\n",
        "\n",
        "- [2]    INSTITUTO DE MATEMÁTICA E ESTATÍSTICA DA USP. **Tabela ASCII**. Disponível em: https://www.ime.usp.br/~pf/algoritmos/apend/ascii.html. Acesso em: 22 de outubro de 2023.\n",
        "\n",
        "- [3]    WIKIPÉDIA. **Unicode**. Disponível em: https://pt.wikipedia.org/wiki/Unicode. Acesso em: 22 de outubro de 2023.\n",
        "\n",
        "- [4]    LINUX CONSOLE. **Funções ord(), chr() do Python**. Disponível em: https://pt.linux-console.net/?p=5929. Acesso em: 22 de outubro de 2023."
      ],
      "metadata": {
        "id": "iQwKYAFct2ti"
      }
    }
  ]
}